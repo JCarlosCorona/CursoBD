{
 "cells": [
  {
   "cell_type": "code",
   "execution_count": 1,
   "metadata": {},
   "outputs": [],
   "source": [
    "# pip install beautifulsoup4\n",
    "import bs4"
   ]
  },
  {
   "cell_type": "markdown",
   "metadata": {},
   "source": [
    "## Ejemplo\n",
    "Utilizar Beautiful Soup para obtener el título de la página y las imagenes  del la página principal de Google usando requests"
   ]
  },
  {
   "cell_type": "code",
   "execution_count": 3,
   "metadata": {},
   "outputs": [],
   "source": [
    "import requests\n",
    "from bs4 import BeautifulSoup"
   ]
  },
  {
   "cell_type": "code",
   "execution_count": 5,
   "metadata": {},
   "outputs": [
    {
     "output_type": "execute_result",
     "data": {
      "text/plain": "200"
     },
     "metadata": {},
     "execution_count": 5
    }
   ],
   "source": [
    "resp = requests.get('http://google.com.mx')\n",
    "resp.status_code"
   ]
  },
  {
   "cell_type": "code",
   "execution_count": 7,
   "metadata": {},
   "outputs": [
    {
     "output_type": "execute_result",
     "data": {
      "text/plain": "<title>Google</title>"
     },
     "metadata": {},
     "execution_count": 7
    }
   ],
   "source": [
    "sopa = BeautifulSoup(resp.content)\n",
    "sopa.title"
   ]
  },
  {
   "cell_type": "code",
   "execution_count": 8,
   "metadata": {},
   "outputs": [
    {
     "output_type": "execute_result",
     "data": {
      "text/plain": "'Google'"
     },
     "metadata": {},
     "execution_count": 8
    }
   ],
   "source": [
    "sopa.title.text"
   ]
  },
  {
   "cell_type": "code",
   "execution_count": 9,
   "metadata": {},
   "outputs": [
    {
     "output_type": "execute_result",
     "data": {
      "text/plain": "'title'"
     },
     "metadata": {},
     "execution_count": 9
    }
   ],
   "source": [
    "sopa.title.name"
   ]
  },
  {
   "cell_type": "code",
   "execution_count": 10,
   "metadata": {},
   "outputs": [
    {
     "output_type": "execute_result",
     "data": {
      "text/plain": "<meta content=\"text/html; charset=utf-8\" http-equiv=\"Content-Type\"/>"
     },
     "metadata": {},
     "execution_count": 10
    }
   ],
   "source": [
    "sopa.meta"
   ]
  },
  {
   "cell_type": "code",
   "execution_count": 13,
   "metadata": {},
   "outputs": [
    {
     "output_type": "execute_result",
     "data": {
      "text/plain": "'text/html; charset=UTF-8'"
     },
     "metadata": {},
     "execution_count": 13
    }
   ],
   "source": [
    "sopa.meta['content']"
   ]
  },
  {
   "cell_type": "code",
   "execution_count": 14,
   "metadata": {},
   "outputs": [
    {
     "output_type": "execute_result",
     "data": {
      "text/plain": "[<img alt=\"Google\" height=\"92\" id=\"hplogo\" src=\"/images/branding/googlelogo/1x/googlelogo_white_background_color_272x92dp.png\" style=\"padding:28px 0 14px\" width=\"272\"/>]"
     },
     "metadata": {},
     "execution_count": 14
    }
   ],
   "source": [
    "sopa.find_all('img')"
   ]
  },
  {
   "cell_type": "code",
   "execution_count": 15,
   "metadata": {},
   "outputs": [
    {
     "output_type": "execute_result",
     "data": {
      "text/plain": "'/images/branding/googlelogo/1x/googlelogo_white_background_color_272x92dp.png'"
     },
     "metadata": {},
     "execution_count": 15
    }
   ],
   "source": [
    "sopa.find_all('img')[0]['src']"
   ]
  },
  {
   "cell_type": "markdown",
   "metadata": {},
   "source": [
    "### Indica cuales y cuántas imágenes hay en la página unsplash.com o cualquierotra página de tu elección"
   ]
  },
  {
   "cell_type": "code",
   "execution_count": 17,
   "metadata": {},
   "outputs": [
    {
     "output_type": "execute_result",
     "data": {
      "text/plain": "200"
     },
     "metadata": {},
     "execution_count": 17
    }
   ],
   "source": [
    "r = requests.get('https://unsplash.com/')\n",
    "r.status_code"
   ]
  },
  {
   "cell_type": "code",
   "execution_count": 32,
   "metadata": {},
   "outputs": [
    {
     "output_type": "stream",
     "name": "stdout",
     "text": "https://images.unsplash.com/photo-1588561935000-047155e90925?ixlib=rb-1.2.1&ixid=eyJhcHBfaWQiOjEyMDd9&fit=crop&w=1000&h=1000&q=80\nhttps://images.unsplash.com/photo-1587613727490-514da4285de3?ixlib=rb-1.2.1&ixid=eyJhcHBfaWQiOjEyMDd9&w=1000&q=80\nhttps://images.unsplash.com/photo-1589517028480-a95cb4857001?ixlib=rb-1.2.1&ixid=eyJhcHBfaWQiOjEyMDd9&w=1000&q=80\nhttps://images.unsplash.com/photo-1586395417982-90630f275a7a?ixlib=rb-1.2.1&ixid=eyJhcHBfaWQiOjEyMDd9&w=1000&q=80\nhttps://images.unsplash.com/photo-1587613727490-514da4285de3?ixlib=rb-1.2.1&ixid=eyJhcHBfaWQiOjEyMDd9&w=1000&q=80\nhttps://images.unsplash.com/photo-1586395417982-90630f275a7a?ixlib=rb-1.2.1&ixid=eyJhcHBfaWQiOjEyMDd9&w=1000&q=80\nhttps://images.unsplash.com/photo-1589517028480-a95cb4857001?ixlib=rb-1.2.1&ixid=eyJhcHBfaWQiOjEyMDd9&w=1000&q=80\nhttps://images.unsplash.com/photo-1587613727490-514da4285de3?ixlib=rb-1.2.1&ixid=eyJhcHBfaWQiOjEyMDd9&w=1000&q=80\nhttps://images.unsplash.com/photo-1589517028480-a95cb4857001?ixlib=rb-1.2.1&ixid=eyJhcHBfaWQiOjEyMDd9&w=1000&q=80\nhttps://images.unsplash.com/photo-1586395417982-90630f275a7a?ixlib=rb-1.2.1&ixid=eyJhcHBfaWQiOjEyMDd9&w=1000&q=80\nTotal fotos 10\n"
    }
   ],
   "source": [
    "s = BeautifulSoup(r.content)\n",
    "imagenes = s.find_all('img')\n",
    "total = 0\n",
    "for img in imagenes:\n",
    "    if 'photo-' in img['src']:\n",
    "        print(img['src'])\n",
    "        total += 1\n",
    "print('Total fotos', total)"
   ]
  },
  {
   "cell_type": "markdown",
   "metadata": {},
   "source": [
    "## Reto 1\n",
    "Crear el script descarga-img.py que descargue todas las imágenes de una URL proporcionada y las guarde en la carpeta img/"
   ]
  }
 ],
 "metadata": {
  "language_info": {
   "codemirror_mode": {
    "name": "ipython",
    "version": 3
   },
   "file_extension": ".py",
   "mimetype": "text/x-python",
   "name": "python",
   "nbconvert_exporter": "python",
   "pygments_lexer": "ipython3",
   "version": "3.8.2-final"
  },
  "orig_nbformat": 2,
  "kernelspec": {
   "name": "python38264bit382pyenv95ceebcdd9df4fbab1fecb37edf80fe5",
   "display_name": "Python 3.8.2 64-bit ('3.8.2': pyenv)"
  }
 },
 "nbformat": 4,
 "nbformat_minor": 2
}