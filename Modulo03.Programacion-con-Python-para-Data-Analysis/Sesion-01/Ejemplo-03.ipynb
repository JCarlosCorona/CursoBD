{
 "cells": [
  {
   "cell_type": "markdown",
   "metadata": {},
   "source": [
    "# Cadenas"
   ]
  },
  {
   "cell_type": "code",
   "execution_count": 2,
   "metadata": {},
   "outputs": [
    {
     "data": {
      "text/plain": [
       "\"Domino's Pizza\""
      ]
     },
     "execution_count": 2,
     "metadata": {},
     "output_type": "execute_result"
    }
   ],
   "source": [
    "a = 'hola'\n",
    "a = 'Hola'\n",
    "a = \"Domino's Pizza\"\n",
    "a"
   ]
  },
  {
   "cell_type": "code",
   "execution_count": 11,
   "metadata": {},
   "outputs": [
    {
     "name": "stdout",
     "output_type": "stream",
     "text": [
      "150 <class 'int'>\n",
      "150.5 <class 'float'>\n"
     ]
    }
   ],
   "source": [
    "a = '150'            # tipo str\n",
    "b = '150.5'\n",
    "c = 'cien'\n",
    "a = int(a)           # tipo int\n",
    "print(a, type(a))\n",
    "b = float(b)\n",
    "print(b, type(b))\n",
    "#c = int(c)"
   ]
  },
  {
   "cell_type": "markdown",
   "metadata": {},
   "source": [
    "## Reto 3\n",
    "Tomar el valor 150.5 como entero y convertirlo en cadena"
   ]
  },
  {
   "cell_type": "code",
   "execution_count": 12,
   "metadata": {},
   "outputs": [
    {
     "name": "stdout",
     "output_type": "stream",
     "text": [
      "150 <class 'str'>\n"
     ]
    }
   ],
   "source": [
    "b = 150.5\n",
    "b = int(b)\n",
    "b = str(b)\n",
    "print(b, type(b))"
   ]
  },
  {
   "cell_type": "markdown",
   "metadata": {},
   "source": [
    "## Lectura de datos desde el usuario y formateo de cadenas"
   ]
  },
  {
   "cell_type": "code",
   "execution_count": 13,
   "metadata": {},
   "outputs": [
    {
     "name": "stdin",
     "output_type": "stream",
     "text": [
      "dame tu nombre: Carlos\n"
     ]
    },
    {
     "data": {
      "text/plain": [
       "'Carlos'"
      ]
     },
     "execution_count": 13,
     "metadata": {},
     "output_type": "execute_result"
    }
   ],
   "source": [
    "nombre = input('dame tu nombre:')\n",
    "nombre"
   ]
  },
  {
   "cell_type": "code",
   "execution_count": 15,
   "metadata": {},
   "outputs": [
    {
     "name": "stdin",
     "output_type": "stream",
     "text": [
      "Dame tu edad: 30\n"
     ]
    },
    {
     "name": "stdout",
     "output_type": "stream",
     "text": [
      "30 <class 'str'>\n"
     ]
    }
   ],
   "source": [
    "edad = input('Dame tu edad:')\n",
    "print(edad, type(edad))"
   ]
  },
  {
   "cell_type": "code",
   "execution_count": 16,
   "metadata": {},
   "outputs": [
    {
     "name": "stdout",
     "output_type": "stream",
     "text": [
      "--------------------\n",
      "|Carlos|30|\n",
      "--------------------\n"
     ]
    }
   ],
   "source": [
    "print(\"-\" * 20)\n",
    "print(\"|\" + nombre + \"|\" + edad + \"|\")\n",
    "print(\"-\" * 20)"
   ]
  },
  {
   "cell_type": "code",
   "execution_count": 21,
   "metadata": {},
   "outputs": [
    {
     "name": "stdout",
     "output_type": "stream",
     "text": [
      "-------------------------------------\n",
      "|        Carlos        |     30     |\n",
      "-------------------------------------\n"
     ]
    }
   ],
   "source": [
    "print(\"-\" * 37)\n",
    "print(\"| {:^20} | {:^10} |\".format(nombre, edad))\n",
    "print(\"-\" * 37)"
   ]
  },
  {
   "cell_type": "markdown",
   "metadata": {},
   "source": [
    "## Reto 3\n",
    "Imprimir un ejemplo de un viaje de un usuario en Bedu Bikes, incluyendo 5 viajes a mostrar con tiempo, simulados. Utilizar format para mostrarlo en forma de tabla.\n",
    "\n",
    "\n",
    "|ORIGEN               | DESTINO             | TIEMPO   |\n",
    "|---------------------|---------------------|----------|\n",
    "|Roma Norte           |  Tabacalera         |     15:00|\n",
    "|Reforma              |  Juárez             |     8:00 |\n",
    "|Alameda              |  Condesa            |    20:00 |\n",
    "|Roma Sur             |  Roma Norte         |     4:00 |\n",
    "|Buenavista           |  Del Valle Norte    |    30:00 |\n",
    "\n",
    " "
   ]
  },
  {
   "cell_type": "code",
   "execution_count": 32,
   "metadata": {},
   "outputs": [
    {
     "name": "stdout",
     "output_type": "stream",
     "text": [
      "|    ORIGEN   |  DESTINO   |   TIEMPO   |\n",
      "|-------------|------------|------------|\n",
      "|  ROMA NORTE | TABACALERA |       15:00|\n",
      "|  ROMA NORTE | TABACALERA |        8:00|\n"
     ]
    }
   ],
   "source": [
    "print(\"| {:^12}|{:^12}|{:^12}|\".format(\"ORIGEN\",\"DESTINO\",\"TIEMPO\"))\n",
    "print(\"|\" + (\"-\"*13) + \"|\" + (\"-\"*12)+ \"|\" + (\"-\"*12)+ \"|\")\n",
    "print(\"| {:^12}|{:^12}|{:>12}|\".format(\"ROMA NORTE\",\"TABACALERA\",\"15:00\"))\n",
    "print(\"| {:^12}|{:^12}|{:>12}|\".format(\"ROMA NORTE\",\"TABACALERA\",\"8:00\"))"
   ]
  }
 ],
 "metadata": {
  "kernelspec": {
   "display_name": "Python 3",
   "language": "python",
   "name": "python3"
  },
  "language_info": {
   "codemirror_mode": {
    "name": "ipython",
    "version": 3
   },
   "file_extension": ".py",
   "mimetype": "text/x-python",
   "name": "python",
   "nbconvert_exporter": "python",
   "pygments_lexer": "ipython3",
   "version": "3.7.6"
  }
 },
 "nbformat": 4,
 "nbformat_minor": 4
}
