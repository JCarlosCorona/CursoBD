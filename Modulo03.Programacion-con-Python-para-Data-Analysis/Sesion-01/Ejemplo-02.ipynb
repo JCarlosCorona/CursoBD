{
 "cells": [
  {
   "cell_type": "markdown",
   "metadata": {},
   "source": [
    "# Variables y tipos de datos"
   ]
  },
  {
   "cell_type": "code",
   "execution_count": null,
   "metadata": {},
   "outputs": [],
   "source": [
    "# Tipos de datos enteros\n",
    "a = 5\n",
    "b = 7\n",
    "print(a + b)\n",
    "print(a - b)\n",
    "print(a * b)\n",
    "print(a / b)         # división decimal\n",
    "print(a // b)        # división entera\n",
    "print(a % b)         # residuo\n",
    "print(16**(1/2))     # raíz cuadrada sqrt(16) -> 16**(1/2)"
   ]
  },
  {
   "cell_type": "code",
   "execution_count": 5,
   "metadata": {},
   "outputs": [
    {
     "name": "stdout",
     "output_type": "stream",
     "text": [
      "0.0\n"
     ]
    }
   ],
   "source": [
    "# Tipos de datos decimales\n",
    "a = 5.5\n",
    "b = 7.5\n",
    "print(a // b)"
   ]
  },
  {
   "cell_type": "code",
   "execution_count": 7,
   "metadata": {},
   "outputs": [
    {
     "name": "stdout",
     "output_type": "stream",
     "text": [
      "hola5\n",
      "57.5\n",
      "<class 'str'>\n",
      "holaholaholaholahola\n"
     ]
    }
   ],
   "source": [
    "# Tipos de datos\n",
    "a = 'hola' \n",
    "b = '5'\n",
    "c = '7.5'\n",
    "print(a + b)\n",
    "print(b + c)\n",
    "print(type(b + c))\n",
    "print(a * 5)"
   ]
  },
  {
   "cell_type": "markdown",
   "metadata": {},
   "source": [
    "## Reto 02\n",
    "Calcula el volumen de la circunferencia de la esfera de radio r=150.5"
   ]
  },
  {
   "cell_type": "code",
   "execution_count": 15,
   "metadata": {},
   "outputs": [
    {
     "name": "stdout",
     "output_type": "stream",
     "text": [
      "14279010.373062422\n",
      "3.141592653589793\n"
     ]
    }
   ],
   "source": [
    "import math\n",
    "\n",
    "r = 150.5\n",
    "pi = math.pi\n",
    "v = (4 / 3 * pi) * r ** 3\n",
    "print(v)\n",
    "print(pi)"
   ]
  },
  {
   "cell_type": "code",
   "execution_count": null,
   "metadata": {},
   "outputs": [],
   "source": []
  }
 ],
 "metadata": {
  "kernelspec": {
   "display_name": "Python 3",
   "language": "python",
   "name": "python3"
  },
  "language_info": {
   "codemirror_mode": {
    "name": "ipython",
    "version": 3
   },
   "file_extension": ".py",
   "mimetype": "text/x-python",
   "name": "python",
   "nbconvert_exporter": "python",
   "pygments_lexer": "ipython3",
   "version": "3.7.6"
  }
 },
 "nbformat": 4,
 "nbformat_minor": 4
}
