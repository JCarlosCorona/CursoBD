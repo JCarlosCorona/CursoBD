{
 "cells": [
  {
   "cell_type": "markdown",
   "metadata": {},
   "source": [
    "# Estructuras de control"
   ]
  },
  {
   "cell_type": "code",
   "execution_count": 5,
   "metadata": {},
   "outputs": [
    {
     "name": "stdout",
     "output_type": "stream",
     "text": [
      "0\n",
      "1\n",
      "2\n",
      "3\n",
      "4\n",
      "5\n",
      "6\n",
      "7\n",
      "8\n",
      "9\n"
     ]
    }
   ],
   "source": [
    "# for\n",
    "for i in range(0, 10):\n",
    "    print(i)"
   ]
  },
  {
   "cell_type": "markdown",
   "metadata": {},
   "source": [
    "## mini reto:\n",
    "Imprimir la lista de todos los números impares del 0 al 99\n"
   ]
  },
  {
   "cell_type": "code",
   "execution_count": 6,
   "metadata": {},
   "outputs": [
    {
     "name": "stdout",
     "output_type": "stream",
     "text": [
      "1\n",
      "3\n",
      "5\n",
      "7\n",
      "9\n"
     ]
    }
   ],
   "source": [
    "for i in range(1, 10, 2):\n",
    "    print(i) # Solución Pythonesca"
   ]
  },
  {
   "cell_type": "code",
   "execution_count": 7,
   "metadata": {},
   "outputs": [
    {
     "name": "stdout",
     "output_type": "stream",
     "text": [
      "1 1 1\n",
      "2 4 8\n",
      "3 9 27\n",
      "4 16 64\n",
      "5 25 125\n",
      "6 36 216\n",
      "7 49 343\n",
      "8 64 512\n",
      "9 81 729\n"
     ]
    }
   ],
   "source": [
    "for i in range(1, 10):\n",
    "    print(i, i*i, i**3)"
   ]
  },
  {
   "cell_type": "code",
   "execution_count": null,
   "metadata": {},
   "outputs": [],
   "source": [
    "# while\n",
    "b = 1\n",
    "while b <= 10:\n",
    "    print('Estoy en el ciclo while', b)\n",
    "    b += 1  # b = b + 1 o b++"
   ]
  },
  {
   "cell_type": "code",
   "execution_count": 20,
   "metadata": {},
   "outputs": [
    {
     "name": "stdout",
     "output_type": "stream",
     "text": [
      "10.5 no es un entero\n"
     ]
    }
   ],
   "source": [
    "# if\n",
    "n = '10.5'\n",
    "if n.isdigit():\n",
    "    n = int(n)\n",
    "    print(n, 'es entero')\n",
    "else:\n",
    "    # omitir el valor o marcarlo con inválido\n",
    "    print(n, 'no es un entero')"
   ]
  },
  {
   "cell_type": "markdown",
   "metadata": {},
   "source": [
    "## Reto 05\n",
    "Realizar un código en Python para solicitar un numero entero al usuario, si el numero es un entero, entonces imprimir la lista de los números enteros desde 1 hasta el numero N indicado por el usuario, Si N no es entero entoces solicitar nuevamente el valor al usuario hasta el infinito."
   ]
  },
  {
   "cell_type": "code",
   "execution_count": null,
   "metadata": {},
   "outputs": [
    {
     "name": "stdin",
     "output_type": "stream",
     "text": [
      "¿Cuál es tu edad? 4r\n",
      "¿Cuál es tu edad? 23de\n",
      "¿Cuál es tu edad? 3.2\n",
      "¿Cuál es tu edad? d23e\n"
     ]
    }
   ],
   "source": [
    "esCorrecto = False\n",
    "while esCorrecto == False:\n",
    "    iEdad = input(\"¿Cuál es tu edad?\")\n",
    "    esCorrecto = iEdad.isdigit()\n",
    "    if esCorrecto:\n",
    "        print(\"Tu edad es\", iEdad)"
   ]
  },
  {
   "cell_type": "code",
   "execution_count": null,
   "metadata": {},
   "outputs": [],
   "source": []
  }
 ],
 "metadata": {
  "kernelspec": {
   "display_name": "Python 3",
   "language": "python",
   "name": "python3"
  },
  "language_info": {
   "codemirror_mode": {
    "name": "ipython",
    "version": 3
   },
   "file_extension": ".py",
   "mimetype": "text/x-python",
   "name": "python",
   "nbconvert_exporter": "python",
   "pygments_lexer": "ipython3",
   "version": "3.7.6"
  }
 },
 "nbformat": 4,
 "nbformat_minor": 4
}
