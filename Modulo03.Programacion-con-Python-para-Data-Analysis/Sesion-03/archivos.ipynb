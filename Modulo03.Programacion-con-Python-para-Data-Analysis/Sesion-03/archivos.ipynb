{
 "cells": [
  {
   "cell_type": "markdown",
   "metadata": {},
   "source": [
    "# Manejo de Archivos en Py"
   ]
  },
  {
   "cell_type": "markdown",
   "metadata": {},
   "source": [
    "## Modificar el script archivos.py para que guarde la lista de archivos en el archivo salida.txt"
   ]
  },
  {
   "cell_type": "markdown",
   "metadata": {},
   "source": [
    "## Modificar el script archivos.py para que guarde la lista de archivos en el archivo salida.csv"
   ]
  },
  {
   "cell_type": "code",
   "execution_count": 4,
   "metadata": {},
   "outputs": [],
   "source": [
    "import csv\n",
    "import json"
   ]
  },
  {
   "cell_type": "code",
   "execution_count": 5,
   "metadata": {},
   "outputs": [
    {
     "output_type": "execute_result",
     "data": {
      "text/plain": "'[[\"nom1\", 1234, \"fech1\"], [\"nom2\", 3453, \"fech2\"], [\"nom3\", 867, \"fech3\"]]'"
     },
     "metadata": {},
     "execution_count": 5
    }
   ],
   "source": [
    "a = [\n",
    "    ['nom1', 1234, 'fech1'],\n",
    "    ['nom2', 3453, 'fech2'],\n",
    "    ['nom3', 867, 'fech3']\n",
    "]\n",
    "json.dumps(a)"
   ]
  },
  {
   "cell_type": "code",
   "execution_count": 8,
   "metadata": {},
   "outputs": [
    {
     "output_type": "execute_result",
     "data": {
      "text/plain": "[{'nom': 'nom1', 'tamanio': 1234, 'fecha': '25-05-2020'},\n {'nom': 'nom2', 'tamanio': 6534, 'fecha': '27-05-2020'}]"
     },
     "metadata": {},
     "execution_count": 8
    }
   ],
   "source": [
    "b = \"\"\"\n",
    "[\n",
    "    {\n",
    "        \"nom\":\"nom1\",\n",
    "        \"tamanio\":1234,\n",
    "        \"fecha\":\"25-05-2020\"\n",
    "    },\n",
    "    {\n",
    "        \"nom\":\"nom2\",\n",
    "        \"tamanio\":6534,\n",
    "        \"fecha\":\"27-05-2020\"\n",
    "    }\n",
    "]\n",
    "\"\"\"\n",
    "pyb = json.loads(b)\n",
    "pyb"
   ]
  },
  {
   "cell_type": "markdown",
   "metadata": {},
   "source": [
    "## Reto-01\n",
    "Modificar el script archivos.py para guardar la información en formato json haciendo uso de objetos."
   ]
  },
  {
   "cell_type": "code",
   "execution_count": 21,
   "metadata": {},
   "outputs": [
    {
     "output_type": "stream",
     "name": "stdout",
     "text": "coffee\ntea\nwater\n"
    }
   ],
   "source": [
    "import json\n",
    "for name in num_list:\n",
    "    current[name] = {}\n",
    "    current = current[name]"
   ]
  },
  {
   "cell_type": "code",
   "execution_count": null,
   "metadata": {},
   "outputs": [],
   "source": []
  }
 ],
 "metadata": {
  "language_info": {
   "codemirror_mode": {
    "name": "ipython",
    "version": 3
   },
   "file_extension": ".py",
   "mimetype": "text/x-python",
   "name": "python",
   "nbconvert_exporter": "python",
   "pygments_lexer": "ipython3",
   "version": "3.8.2-final"
  },
  "orig_nbformat": 2,
  "kernelspec": {
   "name": "python38264bit382pyenv95ceebcdd9df4fbab1fecb37edf80fe5",
   "display_name": "Python 3.8.2 64-bit ('3.8.2': pyenv)"
  }
 },
 "nbformat": 4,
 "nbformat_minor": 2
}