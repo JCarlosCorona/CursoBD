{
 "cells": [
  {
   "cell_type": "markdown",
   "metadata": {},
   "source": [
    "# Manipulando archivos desde Python  \n",
    "## Obteniendo la lista de archivos de la carpeta  \n",
    "## Conociendo el módulo os  "
   ]
  },
  {
   "cell_type": "code",
   "execution_count": 2,
   "metadata": {},
   "outputs": [],
   "source": [
    "import os"
   ]
  },
  {
   "cell_type": "code",
   "execution_count": 4,
   "metadata": {},
   "outputs": [
    {
     "output_type": "execute_result",
     "data": {
      "text/plain": "['Funciones.ipynb']"
     },
     "metadata": {},
     "execution_count": 4
    }
   ],
   "source": [
    "os.listdir()"
   ]
  },
  {
   "cell_type": "code",
   "execution_count": 5,
   "metadata": {},
   "outputs": [
    {
     "output_type": "execute_result",
     "data": {
      "text/plain": "['home',\n 'usr',\n '.DS_Store',\n 'bin',\n 'sbin',\n '.file',\n 'etc',\n 'var',\n 'Library',\n 'System',\n '.VolumeIcon.icns',\n '.fseventsd',\n 'private',\n '.vol',\n 'Users',\n 'Applications',\n 'opt',\n 'dev',\n 'Volumes',\n 'tmp',\n 'cores']"
     },
     "metadata": {},
     "execution_count": 5
    }
   ],
   "source": [
    "os.listdir('/')"
   ]
  },
  {
   "cell_type": "code",
   "execution_count": 9,
   "metadata": {},
   "outputs": [
    {
     "output_type": "stream",
     "name": "stdout",
     "text": ".Rhistory\n.DS_Store\nModulo02.Programacion-con-R\nConfig.code-workspace\nREADME.md\nModulo01.Intrduccion-a-Bases-de-Datos\n.git\n.vscode\nModulo03.Programacion-con-Python-para-Data-Analysis\n"
    }
   ],
   "source": [
    "import os\n",
    "\n",
    "# Obteniendo la data\n",
    "ruta = '/Users/josecarlos/Documents/Github/CursoBD'\n",
    "entradas = os.listdir(ruta)\n",
    "\n",
    "# Imprimiendo resultados\n",
    "for e in entradas:\n",
    "        print(e)"
   ]
  },
  {
   "cell_type": "markdown",
   "metadata": {},
   "source": [
    "### Modificar el código anterior para agregar una columna con el tamaño en bytes de los elementos que son archivos, en el caso de las carpetas colocar 0."
   ]
  },
  {
   "cell_type": "code",
   "execution_count": 18,
   "metadata": {},
   "outputs": [
    {
     "output_type": "stream",
     "name": "stdout",
     "text": "/Users/josecarlos/Documents/Github/CursoBD/Modulo03.Programacion-con-Python-para-Data-Analysis/Sesion-03/Carpeta2          0\n/Users/josecarlos/Documents/Github/CursoBD/Modulo03.Programacion-con-Python-para-Data-Analysis/Sesion-03/Carpeta3          0\n/Users/josecarlos/Documents/Github/CursoBD/Modulo03.Programacion-con-Python-para-Data-Analysis/Sesion-03/README.md         26\n/Users/josecarlos/Documents/Github/CursoBD/Modulo03.Programacion-con-Python-para-Data-Analysis/Sesion-03/Carpeta1          0\n/Users/josecarlos/Documents/Github/CursoBD/Modulo03.Programacion-con-Python-para-Data-Analysis/Sesion-03/Funciones.ipynb       4608\n"
    }
   ],
   "source": [
    "import os\n",
    "\n",
    "## Obteniendo la data\n",
    "# Se obtine el nombre de las entradas\n",
    "ruta = '/Users/josecarlos/Documents/Github/CursoBD/Modulo03.Programacion-con-Python-para-Data-Analysis/Sesion-03'\n",
    "nombres = os.listdir(ruta)\n",
    "# Obtener el tamaño de cada uno de los elementos que son archivos\n",
    "\n",
    "# Agregando ruta a los nombres\n",
    "#for i, n in enumerate(nombres): \n",
    "    #nombres[i] = os.path.join(ruta, n) \n",
    "nombres = [os.path.join(ruta, n) for n in nombres]  # listas de comprension\n",
    "\n",
    "entradas = []\n",
    "for n in nombres:\n",
    "    if os.path.isfile(n):\n",
    "        #-obtener el tamaño de n-\n",
    "        #-agregarlo a la lista-\n",
    "        tamanio = os.path.getsize(n)\n",
    "        entrada = [n, tamanio]\n",
    "        entradas.append(entrada)\n",
    "    else:\n",
    "        # Entonces es una carpeta\n",
    "        #-asignar tamaño igual cero-\n",
    "        #-asignarlo a la lista-\n",
    "        entrada = [n, 0]\n",
    "        entradas.append(entrada)\n",
    "\n",
    "# Imprimiendo resultados\n",
    "for e in entradas:\n",
    "        print('{:60} {:10}'.format(*e))"
   ]
  },
  {
   "cell_type": "markdown",
   "metadata": {},
   "source": [
    "## Uso de las funciones"
   ]
  },
  {
   "cell_type": "code",
   "execution_count": 19,
   "metadata": {},
   "outputs": [
    {
     "output_type": "stream",
     "name": "stdout",
     "text": "Ángel 26\n"
    }
   ],
   "source": [
    "def persona(nombre, edad):\n",
    "    print(nombre, edad)\n",
    "\n",
    "persona('Ángel', 26)"
   ]
  },
  {
   "cell_type": "code",
   "execution_count": 24,
   "metadata": {},
   "outputs": [
    {
     "output_type": "stream",
     "name": "stdout",
     "text": "\u001b[34mCarpeta1\u001b[m\u001b[m        \u001b[34mCarpeta3\u001b[m\u001b[m        README.md\n\u001b[34mCarpeta2\u001b[m\u001b[m        Funciones.ipynb archivos.py\n"
    }
   ],
   "source": [
    "!ls"
   ]
  },
  {
   "cell_type": "code",
   "execution_count": 1,
   "metadata": {},
   "outputs": [],
   "source": [
    "import archivos"
   ]
  },
  {
   "cell_type": "code",
   "execution_count": 3,
   "metadata": {},
   "outputs": [
    {
     "output_type": "stream",
     "name": "stdout",
     "text": "/Users/josecarlos/Documents/.Rhistory                                 0\n/Users/josecarlos/Documents/.DS_Store                             10244\n/Users/josecarlos/Documents/Gitlab                                    0\n/Users/josecarlos/Documents/EpaBBDD.md                              199\n/Users/josecarlos/Documents/.localized                                0\n/Users/josecarlos/Documents/Github                                    0\n/Users/josecarlos/Documents/Mi Repositorio de Tableau                 0\n/Users/josecarlos/Documents/EpaBBDD.crypto                        25935\n"
    }
   ],
   "source": [
    "a = archivos.obtiene_entradas(\"/Users/josecarlos/Documents\")\n",
    "archivos.imprime_entradas(a)"
   ]
  },
  {
   "cell_type": "code",
   "execution_count": null,
   "metadata": {},
   "outputs": [],
   "source": []
  }
 ],
 "metadata": {
  "language_info": {
   "codemirror_mode": {
    "name": "ipython",
    "version": 3
   },
   "file_extension": ".py",
   "mimetype": "text/x-python",
   "name": "python",
   "nbconvert_exporter": "python",
   "pygments_lexer": "ipython3",
   "version": "3.8.2-final"
  },
  "orig_nbformat": 2,
  "kernelspec": {
   "name": "python38264bit382pyenv95ceebcdd9df4fbab1fecb37edf80fe5",
   "display_name": "Python 3.8.2 64-bit ('3.8.2': pyenv)"
  }
 },
 "nbformat": 4,
 "nbformat_minor": 2
}