{
 "cells": [
  {
   "cell_type": "markdown",
   "metadata": {},
   "source": [
    "# Manipulando archivos desde Python  \n",
    "## Obteniendo la lista de archivos de la carpeta  \n",
    "## Conociendo el módulo os  \n",
    "## Crear funciones\n",
    "## Crear Módulos"
   ]
  },
  {
   "cell_type": "code",
   "execution_count": null,
   "metadata": {},
   "outputs": [],
   "source": [
    "import os"
   ]
  },
  {
   "cell_type": "code",
   "execution_count": null,
   "metadata": {},
   "outputs": [],
   "source": [
    "os.listdir()"
   ]
  },
  {
   "cell_type": "code",
   "execution_count": null,
   "metadata": {},
   "outputs": [],
   "source": [
    "os.listdir('/')"
   ]
  },
  {
   "cell_type": "code",
   "execution_count": null,
   "metadata": {},
   "outputs": [],
   "source": [
    "import os\n",
    "\n",
    "# Obteniendo la data\n",
    "ruta = '/Users/josecarlos/Documents/Github/CursoBD'\n",
    "entradas = os.listdir(ruta)\n",
    "\n",
    "# Imprimiendo resultados\n",
    "for e in entradas:\n",
    "        print(e)"
   ]
  },
  {
   "cell_type": "markdown",
   "metadata": {},
   "source": [
    "### Modificar el código anterior para agregar una columna con el tamaño en bytes de los elementos que son archivos, en el caso de las carpetas colocar 0."
   ]
  },
  {
   "cell_type": "code",
   "execution_count": null,
   "metadata": {},
   "outputs": [],
   "source": [
    "import os\n",
    "\n",
    "## Obteniendo la data\n",
    "# Se obtine el nombre de las entradas\n",
    "ruta = '/Users/josecarlos/Documents/Github/CursoBD/Modulo03.Programacion-con-Python-para-Data-Analysis/Sesion-03'\n",
    "nombres = os.listdir(ruta)\n",
    "# Obtener el tamaño de cada uno de los elementos que son archivos\n",
    "\n",
    "# Agregando ruta a los nombres\n",
    "#for i, n in enumerate(nombres): \n",
    "    #nombres[i] = os.path.join(ruta, n) \n",
    "nombres = [os.path.join(ruta, n) for n in nombres]  # listas de comprension\n",
    "\n",
    "entradas = []\n",
    "for n in nombres:\n",
    "    if os.path.isfile(n):\n",
    "        #-obtener el tamaño de n-\n",
    "        #-agregarlo a la lista-\n",
    "        tamanio = os.path.getsize(n)\n",
    "        entrada = [n, tamanio]\n",
    "        entradas.append(entrada)\n",
    "    else:\n",
    "        # Entonces es una carpeta\n",
    "        #-asignar tamaño igual cero-\n",
    "        #-asignarlo a la lista-\n",
    "        entrada = [n, 0]\n",
    "        entradas.append(entrada)\n",
    "\n",
    "# Imprimiendo resultados\n",
    "for e in entradas:\n",
    "        print('{:60} {:10}'.format(*e))"
   ]
  },
  {
   "cell_type": "markdown",
   "metadata": {},
   "source": [
    "## Uso de las funciones"
   ]
  },
  {
   "cell_type": "code",
   "execution_count": null,
   "metadata": {},
   "outputs": [],
   "source": [
    "def persona(nombre, edad):\n",
    "    print(nombre, edad)\n",
    "\n",
    "persona('Ángel', 26)"
   ]
  },
  {
   "cell_type": "code",
   "execution_count": null,
   "metadata": {},
   "outputs": [],
   "source": [
    "!ls"
   ]
  },
  {
   "cell_type": "code",
   "execution_count": null,
   "metadata": {},
   "outputs": [],
   "source": [
    "import archivos"
   ]
  },
  {
   "cell_type": "code",
   "execution_count": null,
   "metadata": {},
   "outputs": [],
   "source": [
    "a = archivos.obtiene_entradas(\"/Users/josecarlos/Documents\")\n",
    "archivos.imprime_entradas(a)"
   ]
  },
  {
   "cell_type": "markdown",
   "metadata": {},
   "source": [
    "## Reto-01  ✅\n",
    "Modificar el script archivos.py para que incluya una columna con las fechas de creación o última módificación de la entrada."
   ]
  },
  {
   "cell_type": "markdown",
   "metadata": {},
   "source": [
    "## Reto-02 ✅\n",
    "Incluir el total de bytes de todos los archivos e la carpeta al final de la lista.\n"
   ]
  },
  {
   "cell_type": "markdown",
   "metadata": {},
   "source": [
    "## Reto-03\n",
    "Imprime la lista de archivos de manera ordenada alfabétiamente."
   ]
  },
  {
   "cell_type": "markdown",
   "metadata": {},
   "source": [
    "## *Reto-04 \n",
    "Imprime la lista de archivos de manera ordenada por tamaño de archivo de forma descendente"
   ]
  },
  {
   "cell_type": "code",
   "execution_count": null,
   "metadata": {},
   "outputs": [],
   "source": []
  }
 ],
 "metadata": {
  "language_info": {
   "codemirror_mode": {
    "name": "ipython",
    "version": 3
   },
   "file_extension": ".py",
   "mimetype": "text/x-python",
   "name": "python",
   "nbconvert_exporter": "python",
   "pygments_lexer": "ipython3",
   "version": "3.8.2-final"
  },
  "orig_nbformat": 2,
  "kernelspec": {
   "name": "python38264bit382pyenv95ceebcdd9df4fbab1fecb37edf80fe5",
   "display_name": "Python 3.8.2 64-bit ('3.8.2': pyenv)"
  }
 },
 "nbformat": 4,
 "nbformat_minor": 2
}