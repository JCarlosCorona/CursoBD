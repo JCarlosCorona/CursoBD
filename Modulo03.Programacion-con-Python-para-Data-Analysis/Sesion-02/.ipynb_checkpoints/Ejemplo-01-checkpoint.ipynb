{
 "cells": [
  {
   "cell_type": "markdown",
   "metadata": {},
   "source": [
    "# Ejemplo-01"
   ]
  },
  {
   "cell_type": "markdown",
   "metadata": {},
   "source": [
    "## Lista"
   ]
  },
  {
   "cell_type": "code",
   "execution_count": 2,
   "metadata": {},
   "outputs": [
    {
     "data": {
      "text/plain": [
       "[]"
      ]
     },
     "execution_count": 2,
     "metadata": {},
     "output_type": "execute_result"
    }
   ],
   "source": [
    "lista = [] # lista vacia\n",
    "lista"
   ]
  },
  {
   "cell_type": "code",
   "execution_count": 3,
   "metadata": {},
   "outputs": [
    {
     "data": {
      "text/plain": [
       "[]"
      ]
     },
     "execution_count": 3,
     "metadata": {},
     "output_type": "execute_result"
    }
   ],
   "source": [
    "lista = list() # lista vaci\n",
    "lista"
   ]
  },
  {
   "cell_type": "code",
   "execution_count": 17,
   "metadata": {},
   "outputs": [
    {
     "data": {
      "text/plain": [
       "[True, False, False, True]"
      ]
     },
     "execution_count": 17,
     "metadata": {},
     "output_type": "execute_result"
    }
   ],
   "source": [
    "lista = [1,2,3,4.5,\"seis\",\"siete\",[True,False,False,True]]\n",
    "lista[5]\n",
    "lista[-1] # Obteniendo el último elemento\n"
   ]
  },
  {
   "cell_type": "code",
   "execution_count": 19,
   "metadata": {},
   "outputs": [
    {
     "data": {
      "text/plain": [
       "[1, 2, 3, 4.5, 'seis', 'siete', [True, False, False, True], 'diez', 'diez']"
      ]
     },
     "execution_count": 19,
     "metadata": {},
     "output_type": "execute_result"
    }
   ],
   "source": [
    "lista.append(\"diez\")\n",
    "lista"
   ]
  },
  {
   "cell_type": "code",
   "execution_count": 23,
   "metadata": {},
   "outputs": [
    {
     "data": {
      "text/plain": [
       "14"
      ]
     },
     "execution_count": 23,
     "metadata": {},
     "output_type": "execute_result"
    }
   ],
   "source": [
    "a = 10\n",
    "a = a + 2\n",
    "a += 2 # Lo mismo que: a = a + 2\n",
    "a"
   ]
  },
  {
   "cell_type": "code",
   "execution_count": 24,
   "metadata": {},
   "outputs": [
    {
     "data": {
      "text/plain": [
       "[1,\n",
       " 2,\n",
       " 3,\n",
       " 4.5,\n",
       " 'seis',\n",
       " 'siete',\n",
       " [True, False, False, True],\n",
       " 'diez',\n",
       " 'diez',\n",
       " 'once']"
      ]
     },
     "execution_count": 24,
     "metadata": {},
     "output_type": "execute_result"
    }
   ],
   "source": [
    "lista += [\"once\"]\n",
    "lista"
   ]
  },
  {
   "cell_type": "markdown",
   "metadata": {},
   "source": [
    "## Imprimir lista de enteros"
   ]
  },
  {
   "cell_type": "code",
   "execution_count": 29,
   "metadata": {},
   "outputs": [
    {
     "name": "stdout",
     "output_type": "stream",
     "text": [
      "0\n",
      "1\n",
      "2\n",
      "3\n",
      "4\n",
      "5\n",
      "6\n",
      "7\n",
      "8\n",
      "9\n"
     ]
    }
   ],
   "source": [
    "# Estilo de programación llamado MVC = Modelo Vista Controlador.\n",
    "n = 10\n",
    "\n",
    "# Modelo: Obtener o generar datos o info.\n",
    "## Crear lista\n",
    "numeros = [] ## [1,2,3...,n]\n",
    "for i in range(n):\n",
    "    numeros.append(i)\n",
    "    \n",
    "# Vista: Imprimir resultados, reportes, gráficas, archivos.\n",
    "## Se imprime la lista\n",
    "for n in numeros :\n",
    "    print(n)"
   ]
  },
  {
   "cell_type": "code",
   "execution_count": 32,
   "metadata": {},
   "outputs": [
    {
     "name": "stdout",
     "output_type": "stream",
     "text": [
      "0\n",
      "1\n",
      "2\n",
      "3\n",
      "4\n"
     ]
    }
   ],
   "source": [
    "# Estilo de programación llamado MVC = Modelo Vista Controlador.\n",
    "n = 5\n",
    "\n",
    "# Modelo: Obtener o generar datos o info.\n",
    "## Crear lista\n",
    "numeros = list(range(n)) ## [1,2,3...,n]\n",
    "    \n",
    "# Vista: Imprimir resultados, reportes, gráficas, archivos.\n",
    "## Se imprime la lista\n",
    "for n in numeros :\n",
    "    print(n)"
   ]
  },
  {
   "cell_type": "markdown",
   "metadata": {},
   "source": [
    "# Reto-01\n",
    "\n",
    "Modifica la lista de enteros para poner un límite en el valor máximo de la lista, en 50 millones.\n",
    "\n",
    "A su vez, imprime la lista en enteros como flotantes."
   ]
  },
  {
   "cell_type": "code",
   "execution_count": 33,
   "metadata": {},
   "outputs": [
    {
     "name": "stdout",
     "output_type": "stream",
     "text": [
      "0.0\n",
      "1.0\n",
      "2.0\n",
      "3.0\n",
      "4.0\n",
      "5.0\n",
      "6.0\n",
      "7.0\n",
      "8.0\n",
      "9.0\n"
     ]
    }
   ],
   "source": [
    "n = 10\n",
    "\n",
    "numeros = list(range(n))\n",
    "    \n",
    "for n in numeros :\n",
    "    print(float(n))"
   ]
  },
  {
   "cell_type": "code",
   "execution_count": null,
   "metadata": {},
   "outputs": [],
   "source": []
  }
 ],
 "metadata": {
  "kernelspec": {
   "display_name": "Python 3",
   "language": "python",
   "name": "python3"
  },
  "language_info": {
   "codemirror_mode": {
    "name": "ipython",
    "version": 3
   },
   "file_extension": ".py",
   "mimetype": "text/x-python",
   "name": "python",
   "nbconvert_exporter": "python",
   "pygments_lexer": "ipython3",
   "version": "3.7.6"
  }
 },
 "nbformat": 4,
 "nbformat_minor": 4
}
