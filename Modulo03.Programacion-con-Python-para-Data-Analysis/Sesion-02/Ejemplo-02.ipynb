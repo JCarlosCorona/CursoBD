{
 "cells": [
  {
   "cell_type": "markdown",
   "metadata": {},
   "source": [
    "# Ejemplo-02"
   ]
  },
  {
   "cell_type": "markdown",
   "metadata": {},
   "source": [
    "## Convirtiendo cadenas a listas"
   ]
  },
  {
   "cell_type": "code",
   "execution_count": 1,
   "metadata": {},
   "outputs": [
    {
     "data": {
      "text/plain": [
       "'Sábado'"
      ]
     },
     "execution_count": 1,
     "metadata": {},
     "output_type": "execute_result"
    }
   ],
   "source": [
    "c = 'Sábado'\n",
    "c"
   ]
  },
  {
   "cell_type": "code",
   "execution_count": 2,
   "metadata": {},
   "outputs": [
    {
     "data": {
      "text/plain": [
       "'o'"
      ]
     },
     "execution_count": 2,
     "metadata": {},
     "output_type": "execute_result"
    }
   ],
   "source": [
    "c[-1]"
   ]
  },
  {
   "cell_type": "code",
   "execution_count": 4,
   "metadata": {},
   "outputs": [
    {
     "data": {
      "text/plain": [
       "['S', 'a', 'b', 'd', 'o', 'á']"
      ]
     },
     "execution_count": 4,
     "metadata": {},
     "output_type": "execute_result"
    }
   ],
   "source": [
    "l = list(c)\n",
    "l.sort()\n",
    "l"
   ]
  },
  {
   "cell_type": "code",
   "execution_count": 6,
   "metadata": {},
   "outputs": [
    {
     "data": {
      "text/plain": [
       "'Sabdoá'"
      ]
     },
     "execution_count": 6,
     "metadata": {},
     "output_type": "execute_result"
    }
   ],
   "source": [
    "\"\".join(l)"
   ]
  },
  {
   "cell_type": "code",
   "execution_count": 8,
   "metadata": {},
   "outputs": [
    {
     "data": {
      "text/plain": [
       "'clj'"
      ]
     },
     "execution_count": 8,
     "metadata": {},
     "output_type": "execute_result"
    }
   ],
   "source": [
    "import random\n",
    "\n",
    "c = \"abcdfghijkl\"\n",
    "p = random.choice(c)\n",
    "p += random.choice(c)\n",
    "p += random.choice(c)\n",
    "p"
   ]
  },
  {
   "cell_type": "code",
   "execution_count": 10,
   "metadata": {},
   "outputs": [
    {
     "name": "stdin",
     "output_type": "stream",
     "text": [
      "Dame un 8: \n"
     ]
    },
    {
     "name": "stdout",
     "output_type": "stream",
     "text": [
      " <class 'str'>\n"
     ]
    }
   ],
   "source": [
    "r = input(\"Dame un 8:\")\n",
    "print(r, type(r))"
   ]
  },
  {
   "cell_type": "markdown",
   "metadata": {},
   "source": [
    "## Reto 2\n",
    "Modifica el script de ejemplo genera-claves.py para que también incluya cuando menos algún símbolo ($%&/#@-_=+-*) como parte de las claves."
   ]
  },
  {
   "cell_type": "code",
   "execution_count": 52,
   "metadata": {},
   "outputs": [
    {
     "name": "stdout",
     "output_type": "stream",
     "text": [
      "preclave:  Jy9&aA%AHCxfqqJ\n",
      "clave:     qA%HCyJax&AJf9q\n",
      "preclave:  Mf9#KB1CqBVAñañ\n",
      "clave:     ñACK1qñf#M9VaBB\n",
      "preclave:  Ee7#%Jm&qcRVkyJ\n",
      "clave:     %V#RmcE&J7qyekJ\n",
      "preclave:  Mu9/1yñiv&xL709\n",
      "clave:     70ñ9My1/iL9&xvu\n",
      "preclave:  Ty9&X&aFR3DgdyJ\n",
      "clave:     g&F9&JTyRDad3yX\n",
      "preclave:  Bc9&#RRED4yRYtb\n",
      "clave:     &9YyRcRb#BDRtE4\n",
      "preclave:  Ya1/UF3a2ñfyRXw\n",
      "clave:     ñfFyX12aaU3YRw/\n",
      "preclave:  Dv4%b/RF6orYH14\n",
      "clave:     rFvRH4/4b%6YDo1\n",
      "preclave:  Xn0&QQÑ8bXCkr2W\n",
      "clave:     &QC80kWbQXX2nrÑ\n",
      "preclave:  Qi6%NL#fTotxVÑd\n",
      "clave:     6fÑLtoNiQ%VxT#d\n"
     ]
    }
   ],
   "source": [
    "m = 15\n",
    "n = 10\n",
    "# Incluye mayúsculas\n",
    "mayusculas = \"ABCDEFGHIJKLMNÑOPQRTUVWXYZ\"\n",
    "minusculas = mayusculas.lower()\n",
    "digitos = \"1234567890\"\n",
    "simbolos = \"#&%&/\"\n",
    "alfabeto = mayusculas + minusculas + digitos + simbolos\n",
    "# Generando n claves\n",
    "for x in range(n):\n",
    "# Generando clave        \n",
    "    preclave = random.choice(mayusculas)\n",
    "    preclave += random.choice(minusculas)\n",
    "    preclave += random.choice(digitos)\n",
    "    preclave += random.choice(simbolos)\n",
    "\n",
    "     # Cuántas letras nos faltan?\n",
    "    nl = m - 4\n",
    "    faltan = random.choices(alfabeto, k=nl) # regresa una lista\n",
    "    faltan = \"\".join(faltan) #convertimos lista a str\n",
    "    preclave += faltan\n",
    "    \n",
    "    clave = random.sample(preclave,m)\n",
    "    clave = \"\".join(clave)\n",
    "\n",
    "    print(\"preclave: \", preclave)\n",
    "    print(\"clave:    \", clave)"
   ]
  },
  {
   "cell_type": "code",
   "execution_count": 51,
   "metadata": {},
   "outputs": [
    {
     "data": {
      "text/plain": [
       "17"
      ]
     },
     "execution_count": 51,
     "metadata": {},
     "output_type": "execute_result"
    }
   ],
   "source": [
    "len(\"Qz8%HZHJPUHÑNzQFf\")"
   ]
  },
  {
   "cell_type": "code",
   "execution_count": null,
   "metadata": {},
   "outputs": [],
   "source": []
  }
 ],
 "metadata": {
  "kernelspec": {
   "display_name": "Python 3",
   "language": "python",
   "name": "python3"
  },
  "language_info": {
   "codemirror_mode": {
    "name": "ipython",
    "version": 3
   },
   "file_extension": ".py",
   "mimetype": "text/x-python",
   "name": "python",
   "nbconvert_exporter": "python",
   "pygments_lexer": "ipython3",
   "version": "3.7.6"
  }
 },
 "nbformat": 4,
 "nbformat_minor": 4
}
