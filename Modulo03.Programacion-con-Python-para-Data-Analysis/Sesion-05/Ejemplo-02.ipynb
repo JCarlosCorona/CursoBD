{
 "cells": [
  {
   "cell_type": "markdown",
   "metadata": {},
   "source": [
    "# Ejemplo 02\n",
    "\n",
    "Bottle.py es un micro framework para crear aplicaciones web de forma sencilla, no tiene dependencias fuera de la librería estándar de Python y debido a que todo el framework vive en un solo script, se puede considerar portable.\n",
    "\n",
    "### Instalación\n",
    "\n",
    "Para su instalación, se puede descargar directamente de su sitio [bottle.py](https://bottlepy.org/bottle.py),o mediante pip:\n",
    "\n",
    "`pip3 install bottle`\n",
    "\n",
    "Como es portable, si se descargan se puede colocar en la misma carpeta que se encuentre el archivo/proyecto a correr.\n",
    "\n",
    "`hola_bottle.py`\n",
    "\n",
    "Utilizar el módulo bottle para mostrar un mensaje estilo \"Hola Mundo!\" en este caso, con un parámetro en su ruta que permita definir el nombre a utilizar en el saludo.\n",
    "\n",
    "```\n",
    "$ python3 hola-bottle.py \n",
    "Bottle v0.12.17 server starting up (using WSGIRefServer())...\n",
    "Listening on http://localhost:8080/\n",
    "Hit Ctrl-C to quit.\n",
    "```\n",
    "\n",
    "### Templates\n",
    "\n",
    "En el ejemplo anterior, para mostrar contenido dinámico en la página, se utilizó la función `template` la cual puede insertar variables en el HTML, o ejecutar porciones de código incrustrado.\n",
    "\n",
    "`tabla_html.py`\n"
   ]
  },
  {
   "cell_type": "code",
   "execution_count": null,
   "metadata": {},
   "outputs": [],
   "source": []
  }
 ],
 "metadata": {
  "language_info": {
   "codemirror_mode": {
    "name": "ipython",
    "version": 3
   },
   "file_extension": ".py",
   "mimetype": "text/x-python",
   "name": "python",
   "nbconvert_exporter": "python",
   "pygments_lexer": "ipython3",
   "version": 3
  },
  "orig_nbformat": 2
 },
 "nbformat": 4,
 "nbformat_minor": 2
}