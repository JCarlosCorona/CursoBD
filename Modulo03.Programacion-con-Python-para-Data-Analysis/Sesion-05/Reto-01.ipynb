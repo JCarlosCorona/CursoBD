{
 "cells": [
  {
   "cell_type": "markdown",
   "metadata": {},
   "source": [
    "# Ejemplo 01\n",
    " \n",
    " ---  \n",
    " \n",
    "Python, con su filosofía de baterías incluidas, contiene un servidor básico de HTTP, el cual se puede utilizar para servir contenido.\n"
   ]
  },
  {
   "cell_type": "code",
   "execution_count": 8,
   "metadata": {},
   "outputs": [
    {
     "output_type": "stream",
     "name": "stdout",
     "text": "Object `http.server` not found.\n"
    }
   ],
   "source": [
    "# Importando o usando o incluyendo el módulo\n",
    "import http\n",
    "\n",
    "# Obteniendo ayuda del módulo\n",
    "http.server?"
   ]
  },
  {
   "cell_type": "code",
   "execution_count": 9,
   "metadata": {},
   "outputs": [
    {
     "output_type": "stream",
     "name": "stdout",
     "text": "Object `http.server.SimpleHTTPRequestHandler` not found.\n"
    }
   ],
   "source": [
    "# Obteniendo ayuda de la clase SimpleHTTPRequestHandler\n",
    "http.server.SimpleHTTPRequestHandler?\n"
   ]
  },
  {
   "cell_type": "markdown",
   "metadata": {},
   "source": [
    "## Reto-01\n",
    "Modifica el archivo index.html, para que muestre información simulada acerca de un usuario de Bedu Bikes. Puedes utilizar estilos, pero es opcional. Corre el servidor de Python para revisar sus resultados."
   ]
  },
  {
   "cell_type": "code",
   "execution_count": null,
   "metadata": {},
   "outputs": [],
   "source": []
  }
 ],
 "metadata": {
  "language_info": {
   "codemirror_mode": {
    "name": "ipython",
    "version": 3
   },
   "file_extension": ".py",
   "mimetype": "text/x-python",
   "name": "python",
   "nbconvert_exporter": "python",
   "pygments_lexer": "ipython3",
   "version": "3.8.2-final"
  },
  "orig_nbformat": 2,
  "kernelspec": {
   "name": "python38264bit382pyenv95ceebcdd9df4fbab1fecb37edf80fe5",
   "display_name": "Python 3.8.2 64-bit ('3.8.2': pyenv)"
  }
 },
 "nbformat": 4,
 "nbformat_minor": 2
}